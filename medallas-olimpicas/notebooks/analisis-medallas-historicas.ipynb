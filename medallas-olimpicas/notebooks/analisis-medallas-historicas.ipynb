{
 "cells": [
  {
   "cell_type": "code",
   "execution_count": 3,
   "id": "27b4ddd8",
   "metadata": {},
   "outputs": [
    {
     "name": "stdout",
     "output_type": "stream",
     "text": [
      "Directorio actual: c:\\Users\\cs_ln\\OneDrive\\Documentos\\Python\\DS\\Portfolio\\medallas-olimpicas\\notebooks\n",
      "    Año           País  Oro  Plata  Bronce  Total\n",
      "0  1896  United States   11      7       2     20\n",
      "1  1896         Greece   10     18      19     47\n",
      "2  1896        Germany    6      5       2     13\n",
      "3  1896         France    5      4       2     11\n",
      "4  1896  Great Britain    2      3       2      7\n",
      "<class 'pandas.core.frame.DataFrame'>\n",
      "RangeIndex: 1063 entries, 0 to 1062\n",
      "Data columns (total 6 columns):\n",
      " #   Column  Non-Null Count  Dtype \n",
      "---  ------  --------------  ----- \n",
      " 0   Año     1063 non-null   int64 \n",
      " 1   País    1063 non-null   object\n",
      " 2   Oro     1063 non-null   int64 \n",
      " 3   Plata   1063 non-null   int64 \n",
      " 4   Bronce  1063 non-null   int64 \n",
      " 5   Total   1063 non-null   int64 \n",
      "dtypes: int64(5), object(1)\n",
      "memory usage: 50.0+ KB\n",
      "None\n",
      "123\n"
     ]
    }
   ],
   "source": [
    "import pandas as pd\n",
    "import os\n",
    "\n",
    "print(\"Directorio actual:\", os.getcwd())\n",
    "\n",
    "# Cargar el archivo CSV desde una ruta relativa corregida\n",
    "df = pd.read_csv(\"../data/medallas_historicas.csv\")\n",
    "\n",
    "# Ver primeras filas\n",
    "print(df.head())\n",
    "\n",
    "# Ver estructura general\n",
    "print(df.info())\n",
    "\n",
    "# Verificar valores únicos de países\n",
    "print(df[\"País\"].nunique())\n"
   ]
  }
 ],
 "metadata": {
  "kernelspec": {
   "display_name": "Python 3",
   "language": "python",
   "name": "python3"
  },
  "language_info": {
   "codemirror_mode": {
    "name": "ipython",
    "version": 3
   },
   "file_extension": ".py",
   "mimetype": "text/x-python",
   "name": "python",
   "nbconvert_exporter": "python",
   "pygments_lexer": "ipython3",
   "version": "3.13.0"
  }
 },
 "nbformat": 4,
 "nbformat_minor": 5
}
