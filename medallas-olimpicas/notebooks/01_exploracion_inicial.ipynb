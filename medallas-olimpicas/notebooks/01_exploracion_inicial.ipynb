{
 "cells": [
  {
   "cell_type": "markdown",
   "id": "0eabb3fa",
   "metadata": {},
   "source": [
    "# 📊 Exploración Inicial de Medallas Olímpicas\n",
    "Este notebook tiene como objetivo explorar de forma preliminar el dataset `medallas_historicas.csv`, analizando su estructura, valores faltantes, estadísticas generales y primeras tendencias."
   ]
  },
  {
   "cell_type": "code",
   "execution_count": null,
   "id": "c5133976",
   "metadata": {},
   "outputs": [],
   "source": [
    "import pandas as pd\n",
    "import matplotlib.pyplot as plt\n",
    "import seaborn as sns\n",
    "\n",
    "sns.set(style=\"whitegrid\")\n",
    "plt.rcParams[\"figure.figsize\"] = (10, 5)\n",
    "\n",
    "# Cargar el dataset\n",
    "df = pd.read_csv(\"../data/medallas_historicas.csv\")\n"
   ]
  },
  {
   "cell_type": "markdown",
   "id": "7ce638b2",
   "metadata": {},
   "source": [
    "## Vista general del dataset"
   ]
  },
  {
   "cell_type": "code",
   "execution_count": null,
   "id": "dc33b1b3",
   "metadata": {},
   "outputs": [],
   "source": [
    "df.head()\n"
   ]
  },
  {
   "cell_type": "code",
   "execution_count": null,
   "id": "f4ceb3e8",
   "metadata": {},
   "outputs": [],
   "source": [
    "df.info()\n"
   ]
  },
  {
   "cell_type": "code",
   "execution_count": null,
   "id": "4fee2723",
   "metadata": {},
   "outputs": [],
   "source": [
    "df.describe(include='all')\n"
   ]
  },
  {
   "cell_type": "markdown",
   "id": "f3ef125b",
   "metadata": {},
   "source": [
    "## Verificación de valores nulos"
   ]
  },
  {
   "cell_type": "code",
   "execution_count": null,
   "id": "75e9bcb2",
   "metadata": {},
   "outputs": [],
   "source": [
    "df.isnull().sum()\n"
   ]
  },
  {
   "cell_type": "markdown",
   "id": "f3939cb2",
   "metadata": {},
   "source": [
    "## Países y años únicos"
   ]
  },
  {
   "cell_type": "code",
   "execution_count": null,
   "id": "77ca806b",
   "metadata": {},
   "outputs": [],
   "source": [
    "print(\"Países únicos:\", df[\"País\"].nunique())\n",
    "print(\"Años únicos:\", df[\"Año\"].nunique())\n",
    "print(\"Rango de años:\", df[\"Año\"].min(), \"-\", df[\"Año\"].max())\n"
   ]
  },
  {
   "cell_type": "markdown",
   "id": "57dd888f",
   "metadata": {},
   "source": [
    "## Total de medallas por edición"
   ]
  },
  {
   "cell_type": "code",
   "execution_count": null,
   "id": "8e62b1a5",
   "metadata": {},
   "outputs": [],
   "source": [
    "df[\"Total\"] = df[\"Oro\"] + df[\"Plata\"] + df[\"Bronce\"]\n",
    "\n",
    "df.groupby(\"Año\")[\"Total\"].sum().plot(kind=\"bar\", title=\"Total de medallas entregadas por edición\")\n",
    "plt.ylabel(\"Cantidad de medallas\")\n",
    "plt.xlabel(\"Año\")\n",
    "plt.tight_layout()\n",
    "plt.show()\n"
   ]
  },
  {
   "cell_type": "markdown",
   "id": "74ac6921",
   "metadata": {},
   "source": [
    "## Top 15 países con más medallas en total"
   ]
  },
  {
   "cell_type": "code",
   "execution_count": null,
   "id": "11cfd6aa",
   "metadata": {},
   "outputs": [],
   "source": [
    "ranking_total = df.groupby(\"País\")[\"Total\"].sum().sort_values(ascending=False).head(15)\n",
    "\n",
    "ranking_total.plot(kind=\"barh\", title=\"Top 15 países con más medallas\")\n",
    "plt.xlabel(\"Total de medallas\")\n",
    "plt.gca().invert_yaxis()\n",
    "plt.tight_layout()\n",
    "plt.show()\n"
   ]
  },
  {
   "cell_type": "markdown",
   "id": "88e9e1e2",
   "metadata": {},
   "source": [
    "## Conclusiones exploratorias\n",
    "- El dataset contiene información de múltiples ediciones de los Juegos Olímpicos.\n",
    "- Se analizaron los valores nulos, la distribución de países y años.\n",
    "- Se identificaron los países con mayor cantidad de medallas en la historia olímpica."
   ]
  }
 ],
 "metadata": {},
 "nbformat": 4,
 "nbformat_minor": 5
}